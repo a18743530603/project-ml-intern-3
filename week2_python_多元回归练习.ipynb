{
 "cells": [
  {
   "cell_type": "code",
   "execution_count": null,
   "id": "c41303dc",
   "metadata": {},
   "outputs": [
    {
     "name": "stdout",
     "output_type": "stream",
     "text": [
      "Iteration 0: MSE=38.4702\n",
      "Iteration 100: MSE=0.9207\n",
      "Iteration 200: MSE=0.9207\n",
      "Iteration 300: MSE=0.9207\n",
      "Iteration 400: MSE=0.9207\n",
      "Iteration 500: MSE=0.9207\n",
      "Iteration 600: MSE=0.9207\n",
      "Iteration 700: MSE=0.9207\n",
      "Iteration 800: MSE=0.9207\n",
      "Iteration 900: MSE=0.9207\n",
      "\n",
      "Gradient Descent Coefficients: [7.44338454 1.76835891 0.25829139 0.16029311]\n",
      "Gradient Descent MSE: 0.9207245432708794\n",
      "\n",
      "Sklearn Ridge Coefficients: [7.44338454 1.76835891 0.25829139 0.16029311]\n",
      "Sklearn Ridge MSE: 0.9207245432708794\n"
     ]
    }
   ],
   "source": [
    "import numpy as np\n",
    "from sklearn.linear_model import Ridge\n",
    "from sklearn.metrics import mean_squared_error\n",
    "from sklearn.preprocessing import StandardScaler\n",
    "\n",
    "# ---------------------------\n",
    "# 1. 生成模拟数据\n",
    "# ---------------------------\n",
    "np.random.seed(42)\n",
    "X = 2 * np.random.rand(100, 3)          # 三个特征\n",
    "y = 4 + 3*X[:,0] + 0.5*X[:,1] + np.random.randn(100)  # y = 4 + 3x1 + 0.5x2 + noise\n",
    "\n",
    "# ---------------------------\n",
    "# 2. 标准化（梯度下降推荐）\n",
    "# ---------------------------\n",
    "scaler = StandardScaler()\n",
    "X_scaled = scaler.fit_transform(X)\n",
    "\n",
    "# 在 X 前加一列 1 对应截距项\n",
    "X_b = np.c_[np.ones((X_scaled.shape[0], 1)), X_scaled]  # (100,4)\n",
    "\n",
    "# ---------------------------\n",
    "# 3. 带 L2 正则化的梯度下降实现\n",
    "# ---------------------------\n",
    "def ridge_gradient_descent(X, y, alpha=0.1, lambda_=1.0, n_iterations=1000):\n",
    "    \"\"\"\n",
    "    X: 特征矩阵 (带截距项)\n",
    "    y: 目标向量\n",
    "    alpha: 学习率\n",
    "    lambda_: L2 正则化强度\n",
    "    n_iterations: 迭代次数\n",
    "    \"\"\"\n",
    "    m, n = X.shape#m 是样本数，n 是特征数（如果 X 已经加了截距列，n = 特征数 + 1）\n",
    "    theta = np.zeros(n)  # 初始化参数,theta 初始化为 0 向量，是每个特征的回归系数\n",
    "\n",
    "    for iteration in range(n_iterations):\n",
    "        y_pred = X.dot(theta)#y_pred 是当前模型预测值\n",
    "        error = y_pred - y#error 是预测误差（残差）\n",
    "        # 梯度：普通梯度 + 正则化梯度（截距项不正则化）\n",
    "        gradients = (2/m) * (X.T.dot(error) + lambda_ * np.r_[0, theta[1:]])#(2/m) * X.T.dot(error) 是 普通最小二乘梯度,\n",
    "        #lambda_ * np.r_[0, theta[1:]] 是 L2 正则化梯度,np.r_[0, theta[1:]] 表示截距项不正则化,两者相加就是带 L2 正则化的梯度\n",
    "        theta -= alpha * gradients#学习率 alpha 控制每次迭代的步长,参数更新公式：theta = theta - η * gradient\n",
    "\n",
    "        if iteration % 100 == 0:\n",
    "            mse = mean_squared_error(y, X.dot(theta))\n",
    "            print(f\"Iteration {iteration}: MSE={mse:.4f}\")#每 100 次迭代打印一次 MSE，用于观察收敛情况\n",
    "\n",
    "    return theta\n",
    "\n",
    "# ---------------------------\n",
    "# 4. 使用梯度下降训练\n",
    "# ---------------------------\n",
    "theta_gd = ridge_gradient_descent(X_b, y, alpha=0.1, lambda_=1.0, n_iterations=1000)\n",
    "print(\"\\nGradient Descent Coefficients:\", theta_gd)\n",
    "print(\"Gradient Descent MSE:\", mean_squared_error(y, X_b.dot(theta_gd)))\n",
    "\n",
    "# ---------------------------\n",
    "# 5. 使用 sklearn Ridge 对比\n",
    "# ---------------------------\n",
    "ridge = Ridge(alpha=1.0, fit_intercept=True)\n",
    "ridge.fit(X_scaled, y)  # sklearn 自动处理截距项\n",
    "print(\"\\nSklearn Ridge Coefficients:\", np.r_[ridge.intercept_, ridge.coef_])\n",
    "print(\"Sklearn Ridge MSE:\", mean_squared_error(y, ridge.predict(X_scaled)))\n"
   ]
  },
  {
   "cell_type": "markdown",
   "id": "b80692b4",
   "metadata": {},
   "source": [
    "总结\n",
    "\n",
    "梯度下降可以成功学习带 L2 正则化的线性回归系数\n",
    "\n",
    "对比 Sklearn Ridge，结果一致 → 模型正确\n",
    "\n",
    "MSE 收敛到 0.92，说明拟合效果不错\n",
    "\n",
    "梯度下降优点：可扩展到大数据或自定义正则化\n",
    "\n",
    "Sklearn Ridge 优点：解析解直接求得，速度快、稳定"
   ]
  }
 ],
 "metadata": {
  "kernelspec": {
   "display_name": "base",
   "language": "python",
   "name": "python3"
  },
  "language_info": {
   "codemirror_mode": {
    "name": "ipython",
    "version": 3
   },
   "file_extension": ".py",
   "mimetype": "text/x-python",
   "name": "python",
   "nbconvert_exporter": "python",
   "pygments_lexer": "ipython3",
   "version": "3.13.5"
  }
 },
 "nbformat": 4,
 "nbformat_minor": 5
}
